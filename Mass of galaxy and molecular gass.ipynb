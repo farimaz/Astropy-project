{
 "cells": [
  {
   "cell_type": "code",
   "execution_count": 2,
   "metadata": {},
   "outputs": [],
   "source": [
    "import numpy as np\n",
    "import matplotlib.pyplot as plt\n",
    "\n",
    "# Set up matplotlib\n",
    "import matplotlib.pyplot as plt\n",
    "%matplotlib inline\n",
    "\n",
    "import astropy.units as u\n",
    "from astropy.constants import G, h, k_B,au,M_sun\n",
    "from astropy.visualization import quantity_support"
   ]
  },
  {
   "cell_type": "markdown",
   "metadata": {},
   "source": [
    "# A) Calculating galaxy mass"
   ]
  },
  {
   "cell_type": "markdown",
   "metadata": {},
   "source": [
    " Half-light radius(effective radius) "
   ]
  },
  {
   "cell_type": "code",
   "execution_count": 2,
   "metadata": {},
   "outputs": [
    {
     "data": {
      "text/plain": [
       "(29.0, Unit(\"pc\"))"
      ]
     },
     "execution_count": 2,
     "metadata": {},
     "output_type": "execute_result"
    }
   ],
   "source": [
    "#Reff = 29 * u.pc\n",
    "Reff = u.Quantity(29, unit=u.pc)\n",
    "Reff.value, Reff.unit"
   ]
  },
  {
   "cell_type": "code",
   "execution_count": 3,
   "metadata": {},
   "outputs": [
    {
     "data": {
      "text/latex": [
       "$8.948465 \\times 10^{17} \\; \\mathrm{m}$"
      ],
      "text/plain": [
       "<Quantity 8.94846499e+17 m>"
      ]
     },
     "execution_count": 3,
     "metadata": {},
     "output_type": "execute_result"
    }
   ],
   "source": [
    "Reff.to(u.m)"
   ]
  },
  {
   "cell_type": "code",
   "execution_count": 17,
   "metadata": {},
   "outputs": [],
   "source": [
    "vmean = 206\n",
    "sigin = 4.3\n",
    "v = np.random.normal(vmean, sigin, 500)*u.km/u.s"
   ]
  },
  {
   "cell_type": "code",
   "execution_count": 18,
   "metadata": {},
   "outputs": [
    {
     "name": "stdout",
     "output_type": "stream",
     "text": [
      "First 10 radial velocity measurements:\n",
      "[203.58090722 209.30602712 205.0001759  210.60132966 204.77509839\n",
      " 205.51468885 205.72761998 206.58722702 206.58538654 204.73734898] km / s\n",
      "[203580.90722464 209306.02711559 205000.17590244 210601.32965631\n",
      " 204775.09839072 205514.68885177 205727.61998052 206587.22701893\n",
      " 206585.38653824 204737.34897635] m / s\n"
     ]
    }
   ],
   "source": [
    "print(\"\"\"First 10 radial velocity measurements:\n",
    "{0}\n",
    "{1}\"\"\".format(v[:10], v.to(u.m/u.s)[:10]))"
   ]
  },
  {
   "cell_type": "code",
   "execution_count": 6,
   "metadata": {},
   "outputs": [
    {
     "data": {
      "text/plain": [
       "<astropy.visualization.units.quantity_support.<locals>.MplQuantityConverter at 0x6fc2890>"
      ]
     },
     "execution_count": 6,
     "metadata": {},
     "output_type": "execute_result"
    }
   ],
   "source": [
    "quantity_support()"
   ]
  },
  {
   "cell_type": "code",
   "execution_count": 23,
   "metadata": {},
   "outputs": [
    {
     "data": {
      "text/plain": [
       "Text(0, 0.5, 'N')"
      ]
     },
     "execution_count": 23,
     "metadata": {},
     "output_type": "execute_result"
    },
    {
     "data": {
      "image/png": "[encoded data removed]",
      "text/plain": [
       "<Figure size 432x288 with 1 Axes>"
      ]
     },
     "metadata": {
      "needs_background": "light"
     },
     "output_type": "display_data"
    }
   ],
   "source": [
    "plt.figure()\n",
    "plt.hist(np.random.normal(vmean, sigin, 500), bins='auto', histtype=\"step\")\n",
    "plt.ylim()\n",
    "plt.xlabel('$km s{-1}$')\n",
    "plt.ylabel(\"N\")"
   ]
  },
  {
   "cell_type": "code",
   "execution_count": 19,
   "metadata": {},
   "outputs": [
    {
     "name": "stdout",
     "output_type": "stream",
     "text": [
      "Velocity dispersion: 4.18 km / s\n"
     ]
    }
   ],
   "source": [
    "sigma = np.sqrt(np.sum((v - np.mean(v))**2) / np.size(v))\n",
    "print(\"Velocity dispersion: {0:.2f}\".format(sigma))"
   ]
  },
  {
   "cell_type": "markdown",
   "metadata": {},
   "source": [
    "$M=4\\times\\sigma^{2}R_{eff}/G$"
   ]
  },
  {
   "cell_type": "code",
   "execution_count": 24,
   "metadata": {},
   "outputs": [
    {
     "data": {
      "text/latex": [
       "$3.0388138 \\times 10^{13} \\; \\mathrm{\\frac{km^{2}\\,kg\\,pc}{m^{3}}}$"
      ],
      "text/plain": [
       "<Quantity 3.03881384e+13 kg km2 pc / m3>"
      ]
     },
     "execution_count": 24,
     "metadata": {},
     "output_type": "execute_result"
    }
   ],
   "source": [
    "M = 4*sigma**2*Reff/G\n",
    "M"
   ]
  },
  {
   "cell_type": "code",
   "execution_count": 26,
   "metadata": {},
   "outputs": [
    {
     "data": {
      "text/latex": [
       "$9.3767997 \\times 10^{35} \\; \\mathrm{kg}$"
      ],
      "text/plain": [
       "<Quantity 9.37679973e+35 kg>"
      ]
     },
     "execution_count": 26,
     "metadata": {},
     "output_type": "execute_result"
    }
   ],
   "source": [
    "M.decompose()"
   ]
  },
  {
   "cell_type": "code",
   "execution_count": 28,
   "metadata": {},
   "outputs": [
    {
     "name": "stdout",
     "output_type": "stream",
     "text": [
      "Galaxy mass\n",
      "in solar units: 4.72e+05 solMass\n",
      "SI units: 9.38e+35 kg\n",
      "CGS units: 9.38e+38 g\n"
     ]
    }
   ],
   "source": [
    "print(\"\"\"Galaxy mass\n",
    "in solar units: {0:.3g}\n",
    "SI units: {1:.3g}\n",
    "CGS units: {2:.3g}\"\"\".format(M.to(u.Msun), M.si, M.cgs))"
   ]
  },
  {
   "cell_type": "code",
   "execution_count": 35,
   "metadata": {},
   "outputs": [
    {
     "data": {
      "text/plain": [
       "5.6735344144532425"
      ]
     },
     "execution_count": 35,
     "metadata": {},
     "output_type": "execute_result"
    }
   ],
   "source": [
    "np.log10(M.to_value(u.Msun))"
   ]
  },
  {
   "cell_type": "markdown",
   "metadata": {},
   "source": [
    "### Keplerian velocity"
   ]
  },
  {
   "cell_type": "code",
   "execution_count": 38,
   "metadata": {},
   "outputs": [
    {
     "data": {
      "text/latex": [
       "$29784.692 \\; \\mathrm{\\frac{m}{s}}$"
      ],
      "text/plain": [
       "<Quantity 29784.69182968 m / s>"
      ]
     },
     "execution_count": 38,
     "metadata": {},
     "output_type": "execute_result"
    }
   ],
   "source": [
    "v_earth =np.sqrt(G*M_sun/au)\n",
    "v_earth"
   ]
  },
  {
   "cell_type": "code",
   "execution_count": 20,
   "metadata": {},
   "outputs": [],
   "source": [
    "def keplerian_velocity(m,r):\n",
    "    m = m*u.kg\n",
    "    r = r*u.m\n",
    "    return np.sqrt(G*m/r)"
   ]
  },
  {
   "cell_type": "markdown",
   "metadata": {},
   "source": [
    "keplerian velocity of moon"
   ]
  },
  {
   "cell_type": "code",
   "execution_count": 22,
   "metadata": {},
   "outputs": [
    {
     "data": {
      "text/latex": [
       "$1679.0573 \\; \\mathrm{\\frac{m}{s}}$"
      ],
      "text/plain": [
       "<Quantity 1679.05728877 m / s>"
      ]
     },
     "execution_count": 22,
     "metadata": {},
     "output_type": "execute_result"
    }
   ],
   "source": [
    "keplerian_velocity(7.342*10**(22),1738100)"
   ]
  },
  {
   "cell_type": "markdown",
   "metadata": {},
   "source": [
    "# B) Calculating Cloud mass"
   ]
  },
  {
   "cell_type": "code",
   "execution_count": 3,
   "metadata": {},
   "outputs": [],
   "source": [
    "d = 250 * u.pc\n",
    "Tex = 25 * u.K"
   ]
  },
  {
   "cell_type": "code",
   "execution_count": 4,
   "metadata": {},
   "outputs": [],
   "source": [
    "# Cloud's center\n",
    "cen_ra = 52.25 * u.deg\n",
    "cen_dec = 0.25 * u.deg\n",
    "cen_v = 15 * u.km/u.s\n",
    "\n",
    "# Cloud's size\n",
    "sig_ra = 3 * u.arcmin\n",
    "sig_dec = 4 * u.arcmin\n",
    "sig_v = 3 * u.km/u.s\n",
    "\n",
    "#1D coordinate quantities\n",
    "ra = np.linspace(52, 52.5, 100) * u.deg\n",
    "dec = np.linspace(0, 0.5, 100) * u.deg\n",
    "v = np.linspace(0, 30, 300) *u.km/u.s\n",
    "\n",
    "#this creates data cubes of size for each coordinate based on the dimensions of the other coordinates\n",
    "ra_cube, dec_cube, v_cube = np.meshgrid(ra, dec, v)\n",
    "\n",
    "data_gauss = np.exp(-0.5*((ra_cube-cen_ra)/sig_ra)**2 +\n",
    "                    -0.5*((dec_cube-cen_dec)/sig_dec)**2 +\n",
    "                    -0.5*((v_cube-cen_v)/sig_v)**2 )"
   ]
  },
  {
   "cell_type": "code",
   "execution_count": 5,
   "metadata": {},
   "outputs": [],
   "source": [
    "data = data_gauss * u.K"
   ]
  },
  {
   "cell_type": "code",
   "execution_count": 8,
   "metadata": {},
   "outputs": [
    {
     "data": {
      "text/plain": [
       "(<Quantity 0.02050986 K>, <Quantity 2.87906545e-05 K>, <Quantity 0.08265459 K>)"
      ]
     },
     "execution_count": 8,
     "metadata": {},
     "output_type": "execute_result"
    }
   ],
   "source": [
    "np.mean(data),np.median(data),np.std(data)"
   ]
  },
  {
   "cell_type": "code",
   "execution_count": 6,
   "metadata": {},
   "outputs": [
    {
     "name": "stdout",
     "output_type": "stream",
     "text": [
      "dra = 18.0 arcsec\n",
      "ddec = 18.0 arcsec\n",
      "dv = 0.1 km / s\n"
     ]
    }
   ],
   "source": [
    "# Average pixel size\n",
    "# This is only right if dec ~ 0, because of the cos(dec) factor.\n",
    "dra = (ra.max() - ra.min()) / len(ra)\n",
    "ddec = (dec.max() - dec.min()) / len(dec)\n",
    "\n",
    "#Average velocity bin width\n",
    "dv = (v.max() - v.min()) / len(v)\n",
    "print(\"\"\"dra = {0}\n",
    "ddec = {1}\n",
    "dv = {2}\"\"\".format(dra.to(u.arcsec), ddec.to(u.arcsec), dv))"
   ]
  },
  {
   "cell_type": "code",
   "execution_count": 7,
   "metadata": {},
   "outputs": [
    {
     "data": {
      "text/latex": [
       "$\\mathrm{\\frac{K\\,km}{s}}$"
      ],
      "text/plain": [
       "Unit(\"K km / s\")"
      ]
     },
     "execution_count": 7,
     "metadata": {},
     "output_type": "execute_result"
    }
   ],
   "source": [
    "intcloud = np.sum(data*dv, axis=2)\n",
    "intcloud.unit"
   ]
  },
  {
   "cell_type": "code",
   "execution_count": 8,
   "metadata": {},
   "outputs": [
    {
     "data": {
      "image/png": "[encoded data removed]",
      "text/plain": [
       "<Figure size 432x288 with 2 Axes>"
      ]
     },
     "metadata": {
      "needs_background": "light"
     },
     "output_type": "display_data"
    }
   ],
   "source": [
    "#Note that we display RA in the convential way by going from max to min\n",
    "plt.imshow(intcloud.value,\n",
    "           origin='lower',\n",
    "           extent=[ra.value.max(), ra.value.min(), dec.value.min(), dec.value.max()],\n",
    "           cmap='hot',\n",
    "           interpolation='nearest',\n",
    "           aspect='equal')\n",
    "plt.colorbar().set_label(\"Intensity ({})\".format(intcloud.unit))\n",
    "plt.xlabel(\"RA (deg)\")\n",
    "plt.ylabel(\"Dec (deg)\");"
   ]
  },
  {
   "cell_type": "markdown",
   "metadata": {},
   "source": [
    "## Measuring The Column Density of CO"
   ]
  },
  {
   "cell_type": "markdown",
   "metadata": {},
   "source": [
    "#### converting Lambda to frequency"
   ]
  },
  {
   "cell_type": "code",
   "execution_count": 9,
   "metadata": {},
   "outputs": [],
   "source": [
    "lambda13 = 2.60076 * u.mm\n",
    "lambda18 = 2.73079 * u.mm"
   ]
  },
  {
   "cell_type": "code",
   "execution_count": 11,
   "metadata": {},
   "outputs": [],
   "source": [
    "nu13 = lambda13.to(u.Hz, equivalencies=u.spectral())\n",
    "nu18 = lambda18.to(u.Hz, equivalencies=u.spectral())"
   ]
  },
  {
   "cell_type": "markdown",
   "metadata": {},
   "source": [
    "A: number of assumptions are required for the following calculation"
   ]
  },
  {
   "cell_type": "markdown",
   "metadata": {},
   "source": [
    "$C = 3\\times 10^{14}(\\frac{\\nu}{\\nu_{13}})^2\\frac{A_{13}}{A}K^{-1}cm^{-1}km^{-1}s$"
   ]
  },
  {
   "cell_type": "code",
   "execution_count": 12,
   "metadata": {},
   "outputs": [
    {
     "data": {
      "text/latex": [
       "$2.1792458 \\times 10^{14} \\; \\mathrm{\\frac{s}{K\\,km\\,cm^{2}}}$"
      ],
      "text/plain": [
       "<Quantity 2.17924582e+14 s / (cm2 K km)>"
      ]
     },
     "execution_count": 12,
     "metadata": {},
     "output_type": "execute_result"
    }
   ],
   "source": [
    "nu13 = 115271096910.13396 * u.Hz\n",
    "nu18 = 109782318669.689 * u.Hz\n",
    "A13 = 7.4e-8 / u.s\n",
    "A18 = 8.8e-8 / u.s\n",
    "\n",
    "C = 3e14 * (nu18/nu13)**3 * (A13/A18) / (u.K * u.cm**2 * u.km *(1/u.s))\n",
    "C"
   ]
  },
  {
   "cell_type": "markdown",
   "metadata": {},
   "source": [
    "$B = \\frac{h\\nu}{k_{B}T}$"
   ]
  },
  {
   "cell_type": "code",
   "execution_count": 14,
   "metadata": {},
   "outputs": [
    {
     "data": {
      "text/latex": [
       "$0.21074888 \\; \\mathrm{Hz\\,s}$"
      ],
      "text/plain": [
       "<Quantity 0.21074888 Hz s>"
      ]
     },
     "execution_count": 14,
     "metadata": {},
     "output_type": "execute_result"
    }
   ],
   "source": [
    "B = h * nu18 / (k_B * Tex)\n",
    "B"
   ]
  },
  {
   "cell_type": "markdown",
   "metadata": {},
   "source": [
    "$M = C \\frac{\\int{T_{B}(V)dV}}{1-e^{-B}}$"
   ]
  },
  {
   "cell_type": "code",
   "execution_count": 16,
   "metadata": {},
   "outputs": [
    {
     "name": "stdout",
     "output_type": "stream",
     "text": [
      "Maximom CO column density: \n"
     ]
    },
    {
     "data": {
      "text/latex": [
       "$8.5782066 \\times 10^{15} \\; \\mathrm{\\frac{1}{cm^{2}}}$"
      ],
      "text/plain": [
       "<Quantity 8.57820655e+15 1 / cm2>"
      ]
     },
     "execution_count": 16,
     "metadata": {},
     "output_type": "execute_result"
    }
   ],
   "source": [
    "NCO = C * np.sum(data*dv, axis=2) / (1 - np.exp(-B))\n",
    "print(\"Maximom CO column density: \")\n",
    "np.max(NCO)"
   ]
  },
  {
   "cell_type": "markdown",
   "metadata": {},
   "source": [
    "### CO to Total Mass"
   ]
  },
  {
   "cell_type": "code",
   "execution_count": 18,
   "metadata": {},
   "outputs": [
    {
     "name": "stdout",
     "output_type": "stream",
     "text": [
      "Peak H2 column density: \n"
     ]
    },
    {
     "data": {
      "text/latex": [
       "$5.0611419 \\times 10^{22} \\; \\mathrm{\\frac{1}{cm^{2}}}$"
      ],
      "text/plain": [
       "<Quantity 5.06114187e+22 1 / cm2>"
      ]
     },
     "execution_count": 18,
     "metadata": {},
     "output_type": "execute_result"
    }
   ],
   "source": [
    "H2_CO_ratio = 5.9e6\n",
    "NH2 = NCO * H2_CO_ratio\n",
    "print(\"Peak H2 column density: \")\n",
    "np.max(NH2)"
   ]
  },
  {
   "cell_type": "markdown",
   "metadata": {},
   "source": [
    "We obtain the mass column density by multiplying the number column density by the mass of an individual H2 molecule."
   ]
  },
  {
   "cell_type": "code",
   "execution_count": 19,
   "metadata": {},
   "outputs": [],
   "source": [
    "mH2 = 2 * 1.008 * u.Dalton  #aka atomic mass unit/amu\n",
    "rho = NH2 * mH2"
   ]
  },
  {
   "cell_type": "markdown",
   "metadata": {},
   "source": [
    "Pixel area"
   ]
  },
  {
   "cell_type": "code",
   "execution_count": 21,
   "metadata": {},
   "outputs": [
    {
     "name": "stdout",
     "output_type": "stream",
     "text": [
      "2.5e-05 deg2\n"
     ]
    }
   ],
   "source": [
    "dap = dra * ddec\n",
    "print(dap)"
   ]
  },
  {
   "cell_type": "code",
   "execution_count": 24,
   "metadata": {},
   "outputs": [
    {
     "data": {
      "text/latex": [
       "$0.00047596472 \\; \\mathrm{pc^{2}}$"
      ],
      "text/plain": [
       "<Quantity 0.00047596 pc2>"
      ]
     },
     "execution_count": 24,
     "metadata": {},
     "output_type": "execute_result"
    }
   ],
   "source": [
    "da = (dap * d**2).to(u.pc**2, equivalencies=u.dimensionless_angles())\n",
    "da"
   ]
  },
  {
   "cell_type": "code",
   "execution_count": 25,
   "metadata": {},
   "outputs": [
    {
     "data": {
      "text/latex": [
       "$4.5318534 \\times 10^{33} \\; \\mathrm{cm^{2}}$"
      ],
      "text/plain": [
       "<Quantity 4.53185339e+33 cm2>"
      ]
     },
     "execution_count": 25,
     "metadata": {},
     "output_type": "execute_result"
    }
   ],
   "source": [
    "da.to(u.cm**2)"
   ]
  },
  {
   "cell_type": "code",
   "execution_count": 26,
   "metadata": {},
   "outputs": [
    {
     "data": {
      "text/latex": [
       "$317.63786 \\; \\mathrm{M_{\\odot}}$"
      ],
      "text/plain": [
       "<Quantity 317.63786094 solMass>"
      ]
     },
     "execution_count": 26,
     "metadata": {},
     "output_type": "execute_result"
    }
   ],
   "source": [
    "M = np.sum(rho * da)\n",
    "M.decompose().to(u.solMass)"
   ]
  },
  {
   "cell_type": "code",
   "execution_count": null,
   "metadata": {},
   "outputs": [],
   "source": []
  }
 ],
 "metadata": {
  "kernelspec": {
   "display_name": "Python 3",
   "language": "python",
   "name": "python3"
  },
  "language_info": {
   "codemirror_mode": {
    "name": "ipython",
    "version": 3
   },
   "file_extension": ".py",
   "mimetype": "text/x-python",
   "name": "python",
   "nbconvert_exporter": "python",
   "pygments_lexer": "ipython3",
   "version": "3.7.3"
  }
 },
 "nbformat": 4,
 "nbformat_minor": 2
}
